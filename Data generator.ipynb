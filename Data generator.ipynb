{
 "cells": [
  {
   "cell_type": "code",
   "execution_count": 2,
   "id": "b8da829a",
   "metadata": {},
   "outputs": [],
   "source": [
    "from statsmodels.tsa.arima_process import ArmaProcess\n",
    "import numpy as np\n",
    "import pandas as pd\n",
    "import seaborn as sns\n",
    "import matplotlib.pyplot as plt"
   ]
  },
  {
   "cell_type": "code",
   "execution_count": 3,
   "id": "f7fe137f",
   "metadata": {},
   "outputs": [],
   "source": [
    "def mean_model(X, v, b0=0, c0=0, c1=0):\n",
    "    # Here, v should be v_rep of dimension N. \n",
    "    mu = np.exp(\n",
    "        c0*np.cos(X[:,0]) + c0*np.cos(X[:,1]) + c0*np.cos(X[:,2])\n",
    "        + c1/(X[:,3]**2+1) + + c1/(X[:,4]**2+1)\n",
    "        + b0 + v\n",
    "    )\n",
    "    return mu"
   ]
  },
  {
   "cell_type": "code",
   "execution_count": 4,
   "id": "68f17180",
   "metadata": {},
   "outputs": [],
   "source": [
    "def generate_data(\n",
    "    data_type, dir_name,\n",
    "    b0 = 0.2, c0 = 0.2, c1 = 0.2,\n",
    "    p = 10, # related p = 5 and others are unrelated\n",
    "    ar = [1, -0.5],\n",
    "    ma = 1,\n",
    "    n_simul = 100\n",
    "):\n",
    "    \n",
    "    n_sub, n_num, lam, rand_dist = data_type.split('-')\n",
    "    n_sub, n_num, lam = int(n_sub), int(n_num), float(lam)\n",
    "    N = n_sub * n_num\n",
    "    n_new = n_sub    \n",
    "    arma = ArmaProcess(ar, ma) # AR(1) with coeff 0.5\n",
    "    \n",
    "    settings = np.column_stack([n_simul, n_sub, n_num, n_new, p, b0, lam])\n",
    "    colnames = ['n_simul','n_sub', 'n_num', 'n_new','p', 'b0', 'lam']\n",
    "    settings = pd.DataFrame(settings, columns=colnames)\n",
    "    settings.to_csv(dir_name + 'simul-settings-' + data_type + '.csv', index=False)\n",
    "    \n",
    "    for repeat in range(n_simul):\n",
    "\n",
    "        # Generate data\n",
    "\n",
    "        np.random.seed(repeat)\n",
    "        X = arma.generate_sample(nsample=(N,p), axis=1)\n",
    "        if rand_dist == 'fixed':\n",
    "            u_rep, v_rep = np.repeat(1, N), np.repeat(0, N)\n",
    "        elif rand_dist == 'gamma':\n",
    "            u = np.random.gamma(1/lam, lam, n_sub)\n",
    "            u_rep = np.repeat(u, n_num)\n",
    "            v_rep = np.log(u_rep)\n",
    "        elif rand_dist == 'expo':\n",
    "            u = np.random.exponential(np.sqrt(lam), n_sub) # mean = sqrt(lam), var = lam\n",
    "            u_rep = np.repeat(u, n_num)\n",
    "            v_rep = np.log(u_rep)\n",
    "        elif rand_dist == 'logN':\n",
    "            v = np.random.normal(0, np.sqrt(lam), n_sub)\n",
    "            u = np.exp(v)\n",
    "            u_rep = np.repeat(u, n_num)\n",
    "            v_rep = np.repeat(v, n_num)\n",
    "        else:\n",
    "            print(\"rand_dist is wrong !!!\")\n",
    "            \n",
    "        mu = mean_model(X, v_rep, b0, c0, c1)\n",
    "        y = np.random.poisson(mu)\n",
    "\n",
    "        data = pd.DataFrame(X, columns=[('x'+str(i)) for i in range(p)])\n",
    "        data['y'] = y\n",
    "        data['u'] = u_rep\n",
    "        data['mu'] = mu\n",
    "        data['sub'] = np.repeat(np.arange(n_sub), n_num)\n",
    "        data['num'] = np.tile(np.arange(n_num), n_sub)\n",
    "\n",
    "        # new subjects\n",
    "\n",
    "        np.random.seed(repeat+n_simul)\n",
    "        \n",
    "        X_new = arma.generate_sample(nsample=(n_new,p), axis=1)\n",
    "        if rand_dist == 'fixed':\n",
    "            u_new, v_new = np.repeat(1, n_new), np.repeat(0, n_new)\n",
    "        elif rand_dist == 'gamma':\n",
    "            u_new = np.random.gamma(1/lam, lam, n_new)\n",
    "            v_new = np.log(u_new)\n",
    "        elif rand_dist == 'expo':\n",
    "            u_new = np.random.exponential(np.sqrt(lam), n_new) # mean = sqrt(lam), var = lam\n",
    "            v_new = np.log(u_new)\n",
    "        elif rand_dist == 'logN':\n",
    "            v_new = np.random.normal(0, np.sqrt(lam), n_new)\n",
    "            u_new = np.exp(v_new)\n",
    "        \n",
    "        mu_new = mean_model(X_new, v_new, b0, c0, c1)\n",
    "        y_new = np.random.poisson(mu_new)\n",
    "\n",
    "        data_new = pd.DataFrame(X_new, columns=[('x'+str(i)) for i in range(p)])\n",
    "        data_new['y'] = y_new\n",
    "        data_new['u'] = u_new\n",
    "        data_new['mu'] = mu_new\n",
    "        data_new['sub'] = np.arange(n_sub, n_sub+n_new)\n",
    "        data_new['num'] = np.tile(1, n_new)\n",
    "        \n",
    "        # save data\n",
    "\n",
    "        file_name = dir_name + 'simul-data-' + data_type + '-' + str(repeat)\n",
    "        data.to_csv(file_name+'.csv', index=False)\n",
    "        data_new.to_csv(file_name+'-new.csv', index=False)\n",
    "        \n",
    "        sns.countplot(x='y', data=data)"
   ]
  },
  {
   "cell_type": "code",
   "execution_count": 5,
   "id": "54726b1b",
   "metadata": {},
   "outputs": [
    {
     "data": {
      "image/png": "[encoded data removed]",
      "text/plain": [
       "<Figure size 432x288 with 1 Axes>"
      ]
     },
     "metadata": {
      "needs_background": "light"
     },
     "output_type": "display_data"
    }
   ],
   "source": [
    "dir_name = 'C:/Users/hangbin/Google Drive/_New/Research/DeepHGLM/Simulation/data/'\n",
    "data_type_list = [\n",
    "    '1000-10-0-fixed', '100-100-0-fixed', '20-500-0-fixed',\n",
    "    '1000-10-0.5-gamma', '100-100-0.5-gamma', '20-500-0.5-gamma',\n",
    "    '1000-10-2-gamma', '100-100-2-gamma', '20-500-2-gamma', \n",
    "    '1000-10-0.5-logN','100-100-0.5-logN','20-500-0.5-logN',\n",
    "    '1000-10-2-logN',  '100-100-2-logN',  '20-500-2-logN'\n",
    "]\n",
    "\n",
    "for data_type in data_type_list:    \n",
    "    generate_data(\n",
    "        data_type,\n",
    "        dir_name,\n",
    "        b0 = 0.2, c0 = 0.2, c1 = 0.2,\n",
    "        p = 10, # related p = 5 and others are unrelated\n",
    "        ar = [1, -0.5],\n",
    "        ma = 1,\n",
    "        n_simul = 100)"
   ]
  },
  {
   "cell_type": "code",
   "execution_count": null,
   "id": "eba9f072",
   "metadata": {},
   "outputs": [],
   "source": []
  }
 ],
 "metadata": {
  "kernelspec": {
   "display_name": "Python 3 (ipykernel)",
   "language": "python",
   "name": "python3"
  },
  "language_info": {
   "codemirror_mode": {
    "name": "ipython",
    "version": 3
   },
   "file_extension": ".py",
   "mimetype": "text/x-python",
   "name": "python",
   "nbconvert_exporter": "python",
   "pygments_lexer": "ipython3",
   "version": "3.9.11"
  }
 },
 "nbformat": 4,
 "nbformat_minor": 5
}
