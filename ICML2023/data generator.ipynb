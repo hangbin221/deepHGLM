{
 "cells": [
  {
   "cell_type": "code",
   "execution_count": null,
   "id": "145f6f58",
   "metadata": {},
   "outputs": [],
   "source": [
    "from statsmodels.tsa.arima_process import ArmaProcess\n",
    "import numpy as np\n",
    "import pandas as pd\n",
    "import seaborn as sns\n",
    "import matplotlib.pyplot as plt\n",
    "from sklearn.metrics.pairwise import rbf_kernel"
   ]
  },
  {
   "cell_type": "code",
   "execution_count": null,
   "id": "52c3d749",
   "metadata": {},
   "outputs": [],
   "source": [
    "def mean_model(X):\n",
    "    # make fixed part of the mean model (=marginal mean)\n",
    "    s = np.sum(X, axis=1)\n",
    "    mu = s * np.cos(s) + 2*X[:,0]*X[:,1]\n",
    "    return mu"
   ]
  },
  {
   "cell_type": "code",
   "execution_count": null,
   "id": "cb8eec03",
   "metadata": {},
   "outputs": [],
   "source": [
    "def generate_data(\n",
    "    dir_name,\n",
    "    N, p, qL, gam, sig2, \n",
    "    n_simul\n",
    "):\n",
    "    \n",
    "    settings = np.column_stack([N, p, qL, gam[0], gam[1], sig2, n_simul])\n",
    "    colnames = ['N', 'p', 'qL', 'gam0', 'gam1', 'sig2', 'n_simul']\n",
    "    settings = pd.DataFrame(settings, columns=colnames)\n",
    "    settings.to_csv(dir_name + 'settings.csv', index=False)\n",
    "        \n",
    "    for repeat in range(n_simul):\n",
    "        \n",
    "        np.random.seed(repeat)\n",
    "        \n",
    "        loc = np.random.uniform(-10, 10, (qL, 2))\n",
    "        DL = gam[0] * rbf_kernel(loc, gamma = gam[1]) # d_ij = gam0 * exp(- gam1 |x_i - x_j|^2)\n",
    "        vL = np.random.multivariate_normal(np.zeros(qL), DL, 1)[0]\n",
    "        zL = np.random.choice(range(qL), size=N, replace=True)\n",
    "        \n",
    "        epsilon = np.random.normal(0, np.sqrt(sig2), N)\n",
    "        \n",
    "        X = np.random.uniform(-1, 1, (N,p))\n",
    "        \n",
    "        mu_mar = mean_model(X)\n",
    "        \n",
    "        ZL = pd.get_dummies(zL)\n",
    "        y = mu_mar + epsilon + ZL@vL\n",
    "\n",
    "        data = pd.DataFrame(X, columns=[('x'+str(i)) for i in range(p)])\n",
    "        data['zL'] = zL\n",
    "        data['epsilon'] = epsilon\n",
    "        data['y'] = y\n",
    "        \n",
    "        data.to_csv(dir_name+'data-'+str(repeat)+'.csv', index=False)\n",
    "        \n",
    "        pd.DataFrame(loc, columns=['loc1', 'loc2']).to_csv(dir_name+'loc-'+str(repeat)+'.csv', index=False)\n",
    "        pd.DataFrame(vL).to_csv(dir_name+'vL-'+str(repeat)+'.csv', index=False)"
   ]
  },
  {
   "cell_type": "code",
   "execution_count": null,
   "id": "64a963b7",
   "metadata": {},
   "outputs": [],
   "source": [
    "dir_name = os.getcwd()+'/data/'\n",
    "n_simul = 100\n",
    "\n",
    "N = 100000\n",
    "p = 10\n",
    "qL = 5000\n",
    "gam = [0.5, 0.5] # param of rbf kernel (spatial) # gam1 = 1/2sig2\n",
    "sig2 = 1."
   ]
  },
  {
   "cell_type": "code",
   "execution_count": null,
   "id": "ed4f6e35",
   "metadata": {},
   "outputs": [],
   "source": [
    "generate_data_1(dir_name, N, p, qL, gam, sig2, n_simul)"
   ]
  }
 ],
 "metadata": {
  "kernelspec": {
   "display_name": "Python 3 (ipykernel)",
   "language": "python",
   "name": "python3"
  },
  "language_info": {
   "codemirror_mode": {
    "name": "ipython",
    "version": 3
   },
   "file_extension": ".py",
   "mimetype": "text/x-python",
   "name": "python",
   "nbconvert_exporter": "python",
   "pygments_lexer": "ipython3",
   "version": "3.9.11"
  }
 },
 "nbformat": 4,
 "nbformat_minor": 5
}
