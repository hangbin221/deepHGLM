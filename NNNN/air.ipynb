{
 "cells": [
  {
   "cell_type": "code",
   "execution_count": null,
   "id": "af08bf35",
   "metadata": {},
   "outputs": [],
   "source": [
    "import os\n",
    "os.environ[\"CUDA_VISIBLE_DEVICES\"] = \"1\""
   ]
  },
  {
   "cell_type": "code",
   "execution_count": null,
   "id": "7d8a5721",
   "metadata": {},
   "outputs": [],
   "source": [
    "import time\n",
    "import numpy as np\n",
    "import pandas as pd\n",
    "import matplotlib.pyplot as plt\n",
    "from tqdm import tqdm\n",
    "\n",
    "from scipy.spatial.distance import pdist, squareform\n",
    "from sklearn.model_selection import KFold\n",
    "from sklearn.preprocessing import StandardScaler\n",
    "from sklearn.model_selection import train_test_split\n",
    "\n",
    "import tensorflow as tf\n",
    "from tensorflow.keras import initializers\n",
    "from tensorflow.keras.layers import Dense, Input, Concatenate\n",
    "from tensorflow.keras.models import Model\n",
    "from tensorflow.keras.callbacks import EarlyStopping, Callback\n",
    "from tensorflow.keras import backend as K\n",
    "from tensorflow.keras.optimizers.legacy import Adam, Adagrad\n",
    "np.set_printoptions(precision=3,suppress=True)\n",
    "tf.keras.backend.set_floatx('float32')\n",
    "print(tf.__version__)"
   ]
  },
  {
   "cell_type": "code",
   "execution_count": null,
   "id": "5fa7103d",
   "metadata": {},
   "outputs": [],
   "source": [
    "import NNNN_source as nn"
   ]
  },
  {
   "cell_type": "code",
   "execution_count": null,
   "id": "542aa313",
   "metadata": {},
   "outputs": [],
   "source": [
    "dir_name = os.getcwd() + '/data/'\n",
    "pm25 = pd.read_csv(dir_name+'pm25_df.csv')\n",
    "pm25['pm25'] = np.log(pm25['pm25'])\n",
    "coords = pm25.groupby(['location_id','lat', 'long']).size().index.to_frame().values\n",
    "dist_square = np.float32(squareform(pdist(coords[:,1:])) ** 2)"
   ]
  },
  {
   "cell_type": "code",
   "execution_count": null,
   "id": "0b63adbd",
   "metadata": {},
   "outputs": [],
   "source": [
    "N = np.shape(pm25)[0]\n",
    "# p = 30 # + income, D1, D2, z0\n",
    "\n",
    "X =  pm25[[name for name in pm25.columns if name not in  ['pm25', 'lat', 'long', 'location_id']]].copy()\n",
    "y =  pm25['pm25'].copy()\n",
    "zL = pm25['location_id'].copy()\n",
    "ZL = np.array(pd.get_dummies(zL), dtype=np.float32)"
   ]
  },
  {
   "cell_type": "code",
   "execution_count": null,
   "id": "96bb9c26",
   "metadata": {},
   "outputs": [],
   "source": [
    "def make_mean_model():\n",
    "\n",
    "    input_X  = Input(shape=(np.shape(X_train)[1],),  dtype='float32')\n",
    "    input_ZL = Input(shape=(np.shape(ZL_train)[1],), dtype='float32')\n",
    "    \n",
    "    m   = Dense(10, activation='relu')(input_X)\n",
    "    m   = Dense(3, activation='relu')(m)\n",
    "    \n",
    "    xb  = Dense(1, activation='linear')(m)    \n",
    "    zvL = Dense(1, activation='linear', use_bias=False)(input_ZL)\n",
    "\n",
    "    mean_model = Model(inputs=[input_X, input_ZL], outputs=[xb, zvL])\n",
    "    return mean_model"
   ]
  },
  {
   "cell_type": "code",
   "execution_count": null,
   "id": "9ff93f6a",
   "metadata": {},
   "outputs": [],
   "source": [
    "batch_size = 1024\n",
    "pretrain = 50\n",
    "patience = 20\n",
    "max_epochs = 300\n",
    "moments_epochs = 50\n",
    "epsilon = 1e-3\n",
    "\n",
    "lr_mean, lr_disp = 0.01, 0.1\n",
    "optimizer = Adam(learning_rate = lr_mean)\n",
    "\n",
    "phi_init, lamL_init, lsq_init = 0.5, 0.5, 0.5\n",
    "phi_type, lamL_type = 'mme', 'mme'"
   ]
  },
  {
   "cell_type": "code",
   "execution_count": null,
   "id": "d91d904b",
   "metadata": {},
   "outputs": [],
   "source": [
    "MSE, phi, lamL, lsq = [np.zeros(5) for _ in range(4)]\n",
    "kf = KFold(n_splits=5, shuffle=True, random_state=42)\n",
    "mu_test_dict, y_test_dict = {}, {}\n",
    "for i, (train_index, test_index) in enumerate(kf.split(y)):\n",
    "    \n",
    "    X_tv, X_test = np.array(X.loc[train_index].copy(), dtype=np.float32), np.array(X.loc[test_index].copy(), dtype=np.float32)\n",
    "    y_tv, y_test = np.array(y[train_index], dtype=np.float32), np.array(y[test_index], dtype=np.float32)\n",
    "    ZL_tv, ZL_test = np.array(ZL[train_index], dtype=np.float32), np.array(ZL[test_index], dtype=np.float32)\n",
    "    \n",
    "    X_train, X_valid, y_train, y_valid, ZL_train, ZL_valid = train_test_split(\n",
    "        X_tv, y_tv, ZL_tv, test_size=0.1, random_state=42)\n",
    "    \n",
    "    N_train = np.shape(y_train)[0]\n",
    "    train_batch = tf.data.Dataset.from_tensor_slices((X_train, ZL_train, y_train)).shuffle(N_train).batch(batch_size)\n",
    "    \n",
    "    K.clear_session()\n",
    "    nn.seed_everything()\n",
    "\n",
    "    M = make_mean_model()\n",
    "    res = nn.train_model_RBF(\n",
    "        M, train_batch, [X_train, ZL_train, y_train], [X_valid, ZL_valid, y_valid], dist_square,\n",
    "        optimizer, lr_disp, phi_init, lamL_init, lsq_init, phi_type, lamL_type, epsilon,\n",
    "        pretrain, moments_epochs, max_epochs, patience,\n",
    "        adjust=False, wts_init=None, verbose=True, seed=0)\n",
    "    mu_test = np.sum(M([X_test, ZL_test]), axis=0).T    \n",
    "    MSE[i] = np.mean((y_test-mu_test)**2)\n",
    "    phi[i] = res['phi']\n",
    "    lamL[i] = res['lamL']\n",
    "    lsq[i] = res['lsq']\n",
    "    \n",
    "    mu_test_dict[str(i)] = mu_test[0]\n",
    "    y_test_dict[str(i)]  = y_test\n",
    "\n",
    "print('MSE: ', np.round(np.mean(MSE),3), np.round(np.std(MSE),3))\n",
    "print('phi: ', np.round(np.mean(phi),3), np.round(np.std(phi),3))\n",
    "print('lam: ', np.round(np.mean(lamL),3), np.round(np.std(lamL),3))\n",
    "print('lsq: ', np.round(np.mean(lsq),3), np.round(np.std(lsq),3))"
   ]
  },
  {
   "cell_type": "code",
   "execution_count": null,
   "id": "ecbdd893",
   "metadata": {},
   "outputs": [],
   "source": [
    "y_test_concat = np.concatenate((y_test_dict['0'], y_test_dict['1'],y_test_dict['2'],y_test_dict['3'],y_test_dict['4']))\n",
    "mu_test_concat = np.concatenate((mu_test_dict['0'], mu_test_dict['1'],mu_test_dict['2'],mu_test_dict['3'],mu_test_dict['4']))\n",
    "out = pd.DataFrame()\n",
    "out['y'] = y_test_concat\n",
    "out['mu'] = mu_test_concat\n",
    "# out.to_csv(dir_name+'air_out.csv', index=False)\n",
    "plt.plot(y_test_concat, mu_test_concat, 'b.', markersize=0.2)"
   ]
  }
 ],
 "metadata": {
  "kernelspec": {
   "display_name": "Python 3 (ipykernel)",
   "language": "python",
   "name": "python3"
  },
  "language_info": {
   "codemirror_mode": {
    "name": "ipython",
    "version": 3
   },
   "file_extension": ".py",
   "mimetype": "text/x-python",
   "name": "python",
   "nbconvert_exporter": "python",
   "pygments_lexer": "ipython3",
   "version": "3.9.11"
  }
 },
 "nbformat": 4,
 "nbformat_minor": 5
}
