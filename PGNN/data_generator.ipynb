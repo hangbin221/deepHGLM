{
 "cells": [
  {
   "cell_type": "code",
   "execution_count": 1,
   "id": "19a05bc6",
   "metadata": {},
   "outputs": [],
   "source": [
    "import os\n",
    "import numpy as np\n",
    "import pandas as pd\n",
    "import matplotlib.pyplot as plt\n",
    "from statsmodels.tsa.arima_process import ArmaProcess"
   ]
  },
  {
   "cell_type": "code",
   "execution_count": 2,
   "id": "68b9933d",
   "metadata": {},
   "outputs": [],
   "source": [
    "def mean_model(X, v, b0=0, c0=0, c1=0):\n",
    "    # Here, v should be v_rep of dimension N. \n",
    "    mu = np.exp(c0*np.cos(X[:,0])+c0*np.cos(X[:,1])+c0*np.cos(X[:,2])+c1/(X[:,3]**2+1)+c1/(X[:,4]**2+1)+b0+v)\n",
    "    return mu"
   ]
  },
  {
   "cell_type": "code",
   "execution_count": 3,
   "id": "a7193dec",
   "metadata": {},
   "outputs": [],
   "source": [
    "def make_params_lognormal(mean, variance):\n",
    "    # input is mean and variance of log-normal distribution\n",
    "    # output is mean and variance of corresponding normal distribution (its logarithm)\n",
    "    mu = np.log(mean) - 0.5 * np.log(variance/mean**2+1)\n",
    "    sig = np.sqrt(np.log(variance/mean**2+1))\n",
    "    return (mu, sig)"
   ]
  },
  {
   "cell_type": "code",
   "execution_count": 4,
   "id": "131eaf06",
   "metadata": {},
   "outputs": [],
   "source": [
    "def generate_data(data_type, dir_name, b0=0.2, c0=0.2, c1=0.2, p=5, ar=[1,-0.5], ma=1, n_simul=100):\n",
    "    \n",
    "    n_sub, n_num, lam, rand_dist = data_type.split('-')\n",
    "    n_sub, n_num, lam = int(n_sub), int(n_num), float(lam)\n",
    "    N = n_sub * n_num\n",
    "    n_new = n_sub    \n",
    "    arma = ArmaProcess(ar, ma) # AR(1) with coeff 0.5\n",
    "    \n",
    "    settings = np.column_stack([n_simul, n_sub, n_num, n_new, p, b0, lam])\n",
    "    colnames = ['n_simul','n_sub', 'n_num', 'n_new','p', 'b0', 'lam']\n",
    "    settings = pd.DataFrame(settings, columns=colnames)\n",
    "    settings.to_csv(dir_name + 'simul-settings-' + data_type + '.csv', index=False)\n",
    "    \n",
    "    for repeat in range(n_simul):\n",
    "\n",
    "        # Generate data\n",
    "\n",
    "        np.random.seed(repeat)\n",
    "        X = arma.generate_sample(nsample=(N,p), axis=1)\n",
    "        if rand_dist == 'constant':\n",
    "            u, v = np.repeat(1, n_sub), np.repeat(0, n_sub)\n",
    "        elif rand_dist == 'gamma':\n",
    "            u = np.random.gamma(1/lam, lam, n_sub)\n",
    "            v = np.log(u)\n",
    "        elif rand_dist == 'lognorm':\n",
    "            v = np.random.normal(0, np.sqrt(lam), n_sub)\n",
    "            u = np.exp(v)            \n",
    "        elif rand_dist == 'mixture':\n",
    "            params1 = make_params_lognormal(0.5, (4*lam-1)/20)\n",
    "            params2 = make_params_lognormal(1.5, 9*(4*lam-1)/20)\n",
    "            indicator = np.random.binomial(1, 0.5, 1000)\n",
    "            v1 = np.random.normal(params1[0], params1[1], 1000)\n",
    "            v2 = np.random.normal(params2[0], params2[1], 1000)\n",
    "            v = v1*indicator + v2*(1-indicator)\n",
    "            u = np.exp(v) # to have E(u)=1 and Var(u)=lam\n",
    "        else:\n",
    "            print(\"rand_dist is wrong !!!\")\n",
    "            \n",
    "        u_rep = np.repeat(u, n_num)\n",
    "        v_rep = np.repeat(v, n_num)\n",
    "            \n",
    "        mu = mean_model(X, v_rep, b0, c0, c1)\n",
    "        y = np.random.poisson(mu)\n",
    "\n",
    "        data = pd.DataFrame(X, columns=[('x'+str(i)) for i in range(p)])\n",
    "        data['y'] = y\n",
    "        data['u'] = u_rep\n",
    "        data['mu'] = mu\n",
    "        data['sub'] = np.repeat(np.arange(n_sub), n_num)\n",
    "        data['num'] = np.tile(np.arange(n_num), n_sub)\n",
    "        \n",
    "        # save data\n",
    "\n",
    "        file_name = dir_name + 'simul-data-' + data_type + '-' + str(repeat)\n",
    "        data.to_csv(file_name+'.csv', index=False)"
   ]
  },
  {
   "cell_type": "code",
   "execution_count": 5,
   "id": "3bbac0c9",
   "metadata": {},
   "outputs": [],
   "source": [
    "dir_name = os.getcwd() + '/simulation_data/'\n",
    "data_type_list = ['1000-10-0-constant',\n",
    "                  '1000-10-0.5-gamma',   '1000-10-1-gamma', \n",
    "                  '1000-10-0.5-lognorm', '1000-10-1-lognorm', \n",
    "                  '1000-10-0.5-mixture', '1000-10-1-mixture']\n",
    "for data_type in data_type_list:    \n",
    "    generate_data(data_type, dir_name, p = 5, ar = [1, -0.5], ma = 1, n_simul = 100)"
   ]
  },
  {
   "cell_type": "code",
   "execution_count": null,
   "id": "b805515c",
   "metadata": {},
   "outputs": [],
   "source": []
  }
 ],
 "metadata": {
  "kernelspec": {
   "display_name": "Python 3 (ipykernel)",
   "language": "python",
   "name": "python3"
  },
  "language_info": {
   "codemirror_mode": {
    "name": "ipython",
    "version": 3
   },
   "file_extension": ".py",
   "mimetype": "text/x-python",
   "name": "python",
   "nbconvert_exporter": "python",
   "pygments_lexer": "ipython3",
   "version": "3.9.16"
  }
 },
 "nbformat": 4,
 "nbformat_minor": 5
}
